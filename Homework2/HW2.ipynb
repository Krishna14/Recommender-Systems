{
 "cells": [
  {
   "cell_type": "code",
   "execution_count": 19,
   "metadata": {},
   "outputs": [],
   "source": [
    "import numpy as np\n",
    "import ast\n",
    "import urllib\n",
    "import random\n",
    "import collections\n",
    "import scipy.optimize\n",
    "from sklearn import linear_model  # Perform Logistic Regression\n",
    "from sklearn.preprocessing import LabelEncoder   # This label encoder is used to find the labels\n",
    "from sklearn.preprocessing import OneHotEncoder  # One hot encoding is used here"
   ]
  },
  {
   "cell_type": "code",
   "execution_count": 20,
   "metadata": {},
   "outputs": [],
   "source": [
    "def parseDataFromFile(fname):\n",
    "    for l in open(fname):\n",
    "        yield ast.literal_eval(l)"
   ]
  },
  {
   "cell_type": "code",
   "execution_count": 21,
   "metadata": {},
   "outputs": [],
   "source": [
    "data = list(parseDataFromFile(\"C:\\\\Users\\\\ramasarma\\\\Documents\\\\UCSD\\\\Fall 2020\\\\CSE 258\\\\Homework2\\\\beer_50000.json\"))"
   ]
  },
  {
   "cell_type": "code",
   "execution_count": 22,
   "metadata": {},
   "outputs": [
    {
     "name": "stdout",
     "output_type": "stream",
     "text": [
      "{'review/appearance': 3.0, 'beer/style': 'English Strong Ale', 'review/palate': 3.0, 'review/taste': 3.0, 'beer/name': 'Red Moon', 'review/timeUnix': 1235915097, 'beer/ABV': 6.2, 'beer/beerId': '48213', 'beer/brewerId': '10325', 'review/timeStruct': {'isdst': 0, 'mday': 1, 'hour': 13, 'min': 44, 'sec': 57, 'mon': 3, 'year': 2009, 'yday': 60, 'wday': 6}, 'review/overall': 3.0, 'review/text': 'Dark red color, light beige foam, average.\\tIn the smell malt and caramel, not really light.\\tAgain malt and caramel in the taste, not bad in the end.\\tMaybe a note of honey in teh back, and a light fruitiness.\\tAverage body.\\tIn the aftertaste a light bitterness, with the malt and red fruit.\\tNothing exceptional, but not bad, drinkable beer.', 'user/profileName': 'stcules', 'review/aroma': 2.5}\n"
     ]
    }
   ],
   "source": [
    "print(data[1])\n",
    "# for datum in data:\n",
    "#     print(\"Ratings are {}, {}, {}, {} and {}\".format(datum['review/appearance'],\\\n",
    "#                                                      datum['review/palate'],\\\n",
    "#                                                      datum['review/taste'],\\\n",
    "#                                                      datum['review/overall'],\\\n",
    "#                                                      datum['review/aroma']))"
   ]
  },
  {
   "cell_type": "code",
   "execution_count": 23,
   "metadata": {},
   "outputs": [],
   "source": [
    "random.shuffle(data) # random shuffling of data"
   ]
  },
  {
   "cell_type": "code",
   "execution_count": 24,
   "metadata": {},
   "outputs": [],
   "source": [
    "# Compute the confusion matrix for the given set of predictions and actual values\n",
    "def compute_confusion_matrix(Y_actual, Y_predict):\n",
    "    \"\"\" This function is used to compute the confusion matrix\"\"\"\n",
    "    TP = 0\n",
    "    TN = 0\n",
    "    FP = 0\n",
    "    FN = 0\n",
    "    assert(len(Y_actual) == len(Y_predict))\n",
    "    for i in range(len(Y_actual)):\n",
    "        if(Y_actual[i] == 1 and Y_predict[i] == 1):\n",
    "            TP += 1\n",
    "        elif(Y_actual[i] == 0 and Y_predict[i] == 1):\n",
    "            FP += 1\n",
    "        elif(Y_actual[i] == 0 and Y_predict[i] == 0):\n",
    "            TN += 1\n",
    "        elif(Y_actual[i] == 1 and Y_predict[i] == 0):\n",
    "            FN += 1\n",
    "    return (TP, TN, FP, FN)\n",
    "\n",
    "# Compute the ratios for computing the TP, TN, FP and FN\n",
    "def compute_rates(TP, TN, FP, FN):\n",
    "    TPR = TP / (TP + FN)\n",
    "    TNR = TN / (TN + FP)\n",
    "    FPR = FP / (FP + TN)\n",
    "    FNR = FN / (FN + TP)\n",
    "    BER = 0.5 * (FPR + FNR)\n",
    "    return (TPR, TNR, FPR, FNR, BER)"
   ]
  },
  {
   "cell_type": "code",
   "execution_count": 25,
   "metadata": {},
   "outputs": [],
   "source": [
    "## Diagnostic Tasks (Week 2)\n",
    "## Build a classifier to check if the Beer is highly alcoholic (ABV greater than 7%)\n",
    "def feature(datum):\n",
    "    categoryCounts = collections.defaultdict(int)\n",
    "    for d in datum:\n",
    "        categoryCounts[d['beer/style']] += 1\n",
    "\n",
    "    categories = [c for c in categoryCounts if categoryCounts[c] > 1000]\n",
    "    feat = [str(d['beer/style']) for d in datum if 'beer/style' in d]\n",
    "    labels = [1 if d['beer/ABV'] > 7.0 else 0 for d in datum if 'beer/style' in d]\n",
    "    catID = dict(zip(list(categories), range(len(categories))))\n",
    "    return (feat, labels, catID)"
   ]
  },
  {
   "cell_type": "code",
   "execution_count": 26,
   "metadata": {},
   "outputs": [
    {
     "name": "stdout",
     "output_type": "stream",
     "text": [
      "Max length = 13\n",
      "0.84612\n",
      "The accuracy of the predictor is 0.84612\n",
      "TP, TN, FP, FN are 8012,13141,155, and 3692\n",
      "TPR, TNR, FPR, FNR are 0.6845522898154477,0.9883423586040915,0.011657641395908544, and 0.3154477101845523\n",
      "The balanced error rate is 0.16355267579023042\n"
     ]
    }
   ],
   "source": [
    "# Obtain the encoding and features from the input data\n",
    "(X, Y, encoding) = feature(data)\n",
    "length = len(X)\n",
    "# Compute the numerical labels for the categorical data\n",
    "numerical_labels = np.array(list(encoding.values()))\n",
    "#for key, value in encoding.items():\n",
    "    #print(\"Key, value = {}, {}\".format(key, value))\n",
    "# Convert the labeled encoding to one hot encoding\n",
    "one_hot_encoder = OneHotEncoder(handle_unknown='ignore')\n",
    "one_hot_encoded = {}\n",
    "one_hot_encoder.fit(numerical_labels.reshape(-1, 1))\n",
    "OneHotEncoded = one_hot_encoder.transform(numerical_labels.reshape(-1, 1)).toarray()\n",
    "#print(OneHotEncoded)\n",
    "max_length = -1\n",
    "# Here, we print the key and value for the one hot encoded key/value\n",
    "for i in range(len(list(encoding.keys()))):\n",
    "    key = list(encoding.keys())[i]\n",
    "    one_hot_encoded[key] = OneHotEncoded[i]\n",
    "    #print(\"Key = {}, value = {}\".format(key, one_hot_encoded[key]))\n",
    "    max_length = max(max_length, OneHotEncoded[i].size)\n",
    "    \n",
    "print(\"Max length = {}\".format(max_length))\n",
    "X_train = []\n",
    "X_test = []\n",
    "for x in X[ : length // 2]:\n",
    "    if str(x) in one_hot_encoded:\n",
    "        X_train.append(np.insert(one_hot_encoded[x], 0 , 1))\n",
    "    else:\n",
    "        y = np.zeros(max_length)\n",
    "        z = np.insert(y, 0, 1)\n",
    "        X_train.append(z)\n",
    "\n",
    "for x in X[length // 2 : ]:\n",
    "    if str(x) in one_hot_encoded:\n",
    "        X_test.append(np.insert(one_hot_encoded[x], 0 , 1))\n",
    "    else:\n",
    "        y = np.zeros(max_length)\n",
    "        z = np.insert(y, 0, 1)\n",
    "        X_test.append(z)\n",
    "        \n",
    "X_train = np.array(X_train)\n",
    "X_test = np.array(X_test)\n",
    "# print(X[:10])\n",
    "# print(X_train[:10])\n",
    "# print(\"The original input is: {}\".format(X[2]))\n",
    "# print(\"The modified vector is: {}\".format(X_train[2]))\n",
    "Y_train = np.array(Y[ : length//2])\n",
    "Y_test = np.array(Y[length//2 : ])\n",
    "model = linear_model.LogisticRegression(C=10.0, class_weight='balanced')\n",
    "model.fit(X_train, Y_train)\n",
    "train_predictions = model.predict(X_train)\n",
    "test_predictions = model.predict(X_test)\n",
    "print(sum(test_predictions == Y_test)/len(test_predictions))\n",
    "(TP, TN, FP, FN) = compute_confusion_matrix(Y_test, test_predictions)\n",
    "accuracy = (TP + TN) / (TP + TN + FP + FN)\n",
    "# The accuracy of the predictor is given as follows -->\n",
    "print(\"The accuracy of the predictor is {}\".format(accuracy))\n",
    "print(\"TP, TN, FP, FN are {},{},{}, and {}\".format(TP, TN, FP, FN))\n",
    "(TPR, TNR, FPR, FNR, BER) = compute_rates(TP,TN,FP,FN)\n",
    "print(\"TPR, TNR, FPR, FNR are {},{},{}, and {}\".format(TPR, TNR, FPR, FNR))\n",
    "print(\"The balanced error rate is {}\".format(BER))"
   ]
  },
  {
   "cell_type": "markdown",
   "metadata": {},
   "source": [
    "### Question 2 - Extend the model to include a vector of five ratings (different reviews)"
   ]
  },
  {
   "cell_type": "code",
   "execution_count": 27,
   "metadata": {},
   "outputs": [
    {
     "name": "stdout",
     "output_type": "stream",
     "text": [
      "Max Length is 4721\n",
      "[[1. 0. 0. 0. 0. 0. 0. 0. 0. 0. 0. 0. 0.]\n",
      " [0. 1. 0. 0. 0. 0. 0. 0. 0. 0. 0. 0. 0.]\n",
      " [0. 0. 1. 0. 0. 0. 0. 0. 0. 0. 0. 0. 0.]\n",
      " [0. 0. 0. 1. 0. 0. 0. 0. 0. 0. 0. 0. 0.]\n",
      " [0. 0. 0. 0. 1. 0. 0. 0. 0. 0. 0. 0. 0.]\n",
      " [0. 0. 0. 0. 0. 1. 0. 0. 0. 0. 0. 0. 0.]\n",
      " [0. 0. 0. 0. 0. 0. 1. 0. 0. 0. 0. 0. 0.]\n",
      " [0. 0. 0. 0. 0. 0. 0. 1. 0. 0. 0. 0. 0.]\n",
      " [0. 0. 0. 0. 0. 0. 0. 0. 1. 0. 0. 0. 0.]\n",
      " [0. 0. 0. 0. 0. 0. 0. 0. 0. 1. 0. 0. 0.]\n",
      " [0. 0. 0. 0. 0. 0. 0. 0. 0. 0. 1. 0. 0.]\n",
      " [0. 0. 0. 0. 0. 0. 0. 0. 0. 0. 0. 1. 0.]\n",
      " [0. 0. 0. 0. 0. 0. 0. 0. 0. 0. 0. 0. 1.]]\n",
      "0.85932\n",
      "The accuracy of the predictor is 0.85932\n",
      "TP, TN, FP, FN are 9051,12432,864, and 2653\n",
      "TPR, TNR, FPR, FNR are 0.7733253588516746,0.9350180505415162,0.06498194945848375, and 0.22667464114832536\n",
      "The balanced error rate is 0.14582829530340455\n"
     ]
    },
    {
     "name": "stderr",
     "output_type": "stream",
     "text": [
      "C:\\Users\\ramasarma\\AppData\\Local\\Programs\\Python\\Python37\\lib\\site-packages\\sklearn\\linear_model\\_logistic.py:764: ConvergenceWarning: lbfgs failed to converge (status=1):\n",
      "STOP: TOTAL NO. of ITERATIONS REACHED LIMIT.\n",
      "\n",
      "Increase the number of iterations (max_iter) or scale the data as shown in:\n",
      "    https://scikit-learn.org/stable/modules/preprocessing.html\n",
      "Please also refer to the documentation for alternative solver options:\n",
      "    https://scikit-learn.org/stable/modules/linear_model.html#logistic-regression\n",
      "  extra_warning_msg=_LOGISTIC_SOLVER_CONVERGENCE_MSG)\n"
     ]
    }
   ],
   "source": [
    "def feature(datum):\n",
    "    categoryCounts = collections.defaultdict(int)\n",
    "    for d in datum:\n",
    "        categoryCounts[d['beer/style']] += 1\n",
    "\n",
    "    categories = [c for c in categoryCounts if categoryCounts[c] > 1000]\n",
    "    max_length = -1\n",
    "    for d in datum:\n",
    "        max_length = max(max_length, len(d['review/text']))\n",
    "    \n",
    "    print(\"Max Length is {}\".format(max_length))\n",
    "    \n",
    "    feat = [[str(d['beer/style']), float(d['review/appearance']), float(d['review/palate']), \\\n",
    "             float(d['review/taste']), float(d['review/overall']), float(d['review/aroma']), \\\n",
    "             float(len(d['review/text'])/max_length)] for d in datum if 'beer/style' in d]\n",
    "    labels = [1 if d['beer/ABV'] > 7.0 else 0 for d in datum if 'beer/style' in d]\n",
    "    catID = dict(zip(list(categories), range(len(categories))))\n",
    "    return (feat, labels, catID)\n",
    "\n",
    "(X, Y, encoding) = feature(data)\n",
    "length = len(X)\n",
    "# Compute the numerical labels for the categorical data\n",
    "numerical_labels = np.array(list(encoding.values()))\n",
    "\n",
    "# Convert the labeled encoding to one hot encoding\n",
    "one_hot_encoder = OneHotEncoder(handle_unknown='ignore')\n",
    "one_hot_encoded = {}\n",
    "one_hot_encoder.fit(numerical_labels.reshape(-1, 1))\n",
    "OneHotEncoded = one_hot_encoder.transform(numerical_labels.reshape(-1, 1)).toarray()\n",
    "print(OneHotEncoded)\n",
    "\n",
    "max_length = -1\n",
    "# Here, we print the key and value for the one hot encoded key/value\n",
    "# We also compute the max length required for \n",
    "for i in range(len(list(encoding.keys()))):\n",
    "    key = list(encoding.keys())[i]\n",
    "    one_hot_encoded[key] = OneHotEncoded[i]\n",
    "    max_length = max(max_length, OneHotEncoded[i].size)\n",
    "\n",
    "X_train = []\n",
    "X_test = []\n",
    "for x in X[ : length // 2]:\n",
    "    if str(x[0]) in one_hot_encoded:\n",
    "        resultant_array = np.concatenate([np.insert(one_hot_encoded[str(x[0])], 0 , 1), np.array(x[1:])])\n",
    "        X_train.append(resultant_array)\n",
    "    else:\n",
    "        y = np.zeros(max_length)\n",
    "        z = np.concatenate([np.insert(y, 0, 1), np.array(x[1:])])\n",
    "        X_train.append(z)\n",
    "\n",
    "for x in X[length // 2 : ]:\n",
    "    if str(x[0]) in one_hot_encoded:\n",
    "        resultant_array = np.concatenate([np.insert(one_hot_encoded[str(x[0])], 0 , 1), np.array(x[1:])])\n",
    "        X_test.append(resultant_array)\n",
    "    else:\n",
    "        y = np.zeros(max_length)\n",
    "        z = np.concatenate([np.insert(y, 0, 1), np.array(x[1:])])\n",
    "        X_test.append(z)\n",
    "        \n",
    "Y_train = np.array(Y[ : length//2])\n",
    "Y_test = np.array(Y[length//2 : ])\n",
    "\n",
    "# The encoding for the given set of features looks as follows\n",
    "model = linear_model.LogisticRegression(C=10.0, class_weight='balanced', max_iter=200)\n",
    "model.fit(X_train, Y_train)\n",
    "train_predictions = model.predict(X_train)\n",
    "test_predictions = model.predict(X_test)\n",
    "print(sum(test_predictions == Y_test)/len(test_predictions))\n",
    "(TP, TN, FP, FN) = compute_confusion_matrix(Y_test, test_predictions)\n",
    "# The accuracy of the predictor is given as follows\n",
    "accuracy = (TP + TN) / (TP + TN + FP + FN)\n",
    "print(\"The accuracy of the predictor is {}\".format(accuracy))\n",
    "print(\"TP, TN, FP, FN are {},{},{}, and {}\".format(TP, TN, FP, FN))\n",
    "(TPR, TNR, FPR, FNR, BER) = compute_rates(TP,TN,FP,FN)\n",
    "print(\"TPR, TNR, FPR, FNR are {},{},{}, and {}\".format(TPR, TNR, FPR, FNR))\n",
    "print(\"The balanced error rate is {}\".format(BER))"
   ]
  },
  {
   "cell_type": "markdown",
   "metadata": {},
   "source": [
    "### Question 3 - Regularization pipeline"
   ]
  },
  {
   "cell_type": "code",
   "execution_count": 40,
   "metadata": {},
   "outputs": [
    {
     "name": "stdout",
     "output_type": "stream",
     "text": [
      "Max Length is 4721\n",
      "[[1. 0. 0. 0. 0. 0. 0. 0. 0. 0. 0. 0. 0.]\n",
      " [0. 1. 0. 0. 0. 0. 0. 0. 0. 0. 0. 0. 0.]\n",
      " [0. 0. 1. 0. 0. 0. 0. 0. 0. 0. 0. 0. 0.]\n",
      " [0. 0. 0. 1. 0. 0. 0. 0. 0. 0. 0. 0. 0.]\n",
      " [0. 0. 0. 0. 1. 0. 0. 0. 0. 0. 0. 0. 0.]\n",
      " [0. 0. 0. 0. 0. 1. 0. 0. 0. 0. 0. 0. 0.]\n",
      " [0. 0. 0. 0. 0. 0. 1. 0. 0. 0. 0. 0. 0.]\n",
      " [0. 0. 0. 0. 0. 0. 0. 1. 0. 0. 0. 0. 0.]\n",
      " [0. 0. 0. 0. 0. 0. 0. 0. 1. 0. 0. 0. 0.]\n",
      " [0. 0. 0. 0. 0. 0. 0. 0. 0. 1. 0. 0. 0.]\n",
      " [0. 0. 0. 0. 0. 0. 0. 0. 0. 0. 1. 0. 0.]\n",
      " [0. 0. 0. 0. 0. 0. 0. 0. 0. 0. 0. 1. 0.]\n",
      " [0. 0. 0. 0. 0. 0. 0. 0. 0. 0. 0. 0. 1.]]\n",
      "4\n",
      "[array([1.        , 0.        , 0.        , 0.        , 0.        ,\n",
      "       0.        , 0.        , 0.        , 0.        , 0.        ,\n",
      "       0.        , 0.        , 0.        , 0.        , 4.        ,\n",
      "       3.5       , 4.        , 4.        , 3.5       , 0.10929888]), array([1.        , 0.        , 0.        , 0.        , 0.        ,\n",
      "       0.        , 0.        , 0.        , 0.        , 0.        ,\n",
      "       0.        , 0.        , 0.        , 0.        , 4.5       ,\n",
      "       4.        , 4.5       , 4.5       , 4.        , 0.13323448]), array([1.        , 0.        , 0.        , 0.        , 0.        ,\n",
      "       0.        , 0.        , 0.        , 0.        , 0.        ,\n",
      "       0.        , 0.        , 0.        , 0.        , 5.        ,\n",
      "       4.        , 3.5       , 4.5       , 3.5       , 0.12285533])]\n",
      "[-5.999999999999999, -5.0, -3.999999999999999, -2.9999999999999996]\n",
      "Values of Train BER are [0.3378979453601264, 0.3376567224952865, 0.33354371183452236, 0.32012049564544487]\n",
      "Values of Test BER are [0.340703262041552, 0.3402825922528525, 0.33533980270039754, 0.3228799948502551]\n",
      "Values of Validation BER are [0.34070678445509217, 0.3403180855257769, 0.33674176533098166, 0.32130964652255567]\n"
     ]
    },
    {
     "name": "stderr",
     "output_type": "stream",
     "text": [
      "C:\\Users\\ramasarma\\AppData\\Local\\Programs\\Python\\Python37\\lib\\site-packages\\ipykernel_launcher.py:98: MatplotlibDeprecationWarning: Adding an axes using the same arguments as a previous axes currently reuses the earlier instance.  In a future version, a new instance will always be created and returned.  Meanwhile, this warning can be suppressed, and the future behavior ensured, by passing a unique label to each axes instance.\n"
     ]
    },
    {
     "data": {
      "text/plain": [
       "<matplotlib.legend.Legend at 0x27203c54d08>"
      ]
     },
     "execution_count": 40,
     "metadata": {},
     "output_type": "execute_result"
    },
    {
     "data": {
      "image/png": "[encoded data removed]",
      "text/plain": [
       "<Figure size 432x288 with 1 Axes>"
      ]
     },
     "metadata": {
      "needs_background": "light"
     },
     "output_type": "display_data"
    }
   ],
   "source": [
    "# We import this matplotlib package for further analysis using PyPlot\n",
    "import matplotlib.pyplot as plt\n",
    "import math\n",
    "\n",
    "(X, Y, encoding) = feature(data)\n",
    "length = len(X)\n",
    "# Compute the numerical labels for the categorical data\n",
    "numerical_labels = np.array(list(encoding.values()))\n",
    "\n",
    "# Convert the labeled encoding to one hot encoding\n",
    "one_hot_encoder = OneHotEncoder(handle_unknown='ignore')\n",
    "one_hot_encoded = {}\n",
    "one_hot_encoder.fit(numerical_labels.reshape(-1, 1))\n",
    "OneHotEncoded = one_hot_encoder.transform(numerical_labels.reshape(-1, 1)).toarray()\n",
    "print(OneHotEncoded)\n",
    "#C = np.arange(10 ** -6,10 ** -3,5 *(10 ** -6)).tolist()\n",
    "C = [10 ** -6, 10 ** -5, 10 ** -4, 10 ** -3]\n",
    "X_train = []\n",
    "X_test = []\n",
    "X_validate = []\n",
    "Y_train = []\n",
    "Y_test = []\n",
    "Y_validate = []\n",
    "training_split = [0, (length//2), (length//4)*3, length]\n",
    "print(len(training_split))\n",
    "left = 0\n",
    "right = 1\n",
    "\n",
    "while right < len(training_split):\n",
    "    #print(\"Left = {}, right = {}\".format(left, right))\n",
    "    for x in X[training_split[left]:training_split[right]]:\n",
    "        resultant_array = []\n",
    "        if str(x[0]) in one_hot_encoded:\n",
    "            resultant_array = np.concatenate([np.insert(one_hot_encoded[str(x[0])], 0 , 1), np.array(x[1:])])\n",
    "        else:\n",
    "            y = np.zeros(max_length)\n",
    "            resultant_array = np.concatenate([np.insert(y, 0, 1), np.array(x[1:])])\n",
    "        #print(resultant_array)\n",
    "        if right == 1:\n",
    "            X_train.append(resultant_array)\n",
    "        elif right == 2:\n",
    "            X_test.append(resultant_array)\n",
    "        elif right == 3:\n",
    "            X_validate.append(resultant_array)\n",
    "    \n",
    "    \n",
    "    array = np.array(Y[training_split[left]:training_split[right]])\n",
    "    if right == 1:\n",
    "        Y_train = array\n",
    "    elif right == 2:\n",
    "        Y_test = array\n",
    "    elif right == 3:\n",
    "        Y_validate = array\n",
    "        \n",
    "    right += 1\n",
    "    left += 1\n",
    "\n",
    "print(X_train[0:3])\n",
    "BER_values = collections.defaultdict()\n",
    "for val in C:\n",
    "    # Plot Training, Testing and Validation BER\n",
    "    model = linear_model.LogisticRegression(C=val, class_weight='balanced', max_iter=2000)\n",
    "    model.fit(X_train, Y_train)\n",
    "    train_predictions = model.predict(X_train)\n",
    "    test_predictions = model.predict(X_test)\n",
    "    validate_predictions = model.predict(X_validate)\n",
    "    (TP, TN, FP, FN) = compute_confusion_matrix(Y_train, train_predictions)\n",
    "    (TP_test, TN_test, FP_test, FN_test) = compute_confusion_matrix(Y_test, test_predictions)\n",
    "    (TP_val, TN_val, FP_val, FN_val) = compute_confusion_matrix(Y_validate, validate_predictions)\n",
    "    accuracy_train = (TP + TN) / (TP + TN + FP + FN)\n",
    "    accuracy_test = (TP_test + TN_test) / (TP_test + TN_test + FP_test + FN_test)\n",
    "    accuracy_validate = (TP_val + TN_val) / (TP_val + TN_val + FP_val + FN_val)\n",
    "\n",
    "    (TPR, TNR, FPR, FNR, BER) = compute_rates(TP,TN,FP,FN)\n",
    "    (TPR_test, TNR_test, FPR_test, FNR_test, BER_test) = compute_rates(TP_test,TN_test,FP_test,FN_test)\n",
    "    (TPR_val, TNR_val, FPR_val, FNR_val, BER_val) = compute_rates(TP_val,TN_val,FP_val,FN_val)\n",
    "\n",
    "    BER_values[val] = (BER, BER_test, BER_val)\n",
    "\n",
    "x = []\n",
    "y0 = []\n",
    "y1 = []\n",
    "y2 = []\n",
    "for key, values in BER_values.items():\n",
    "    x.append(math.log(key)/math.log(10))\n",
    "    y0.append(values[0])\n",
    "    y1.append(values[1])\n",
    "    y2.append(values[2])\n",
    "print(x)\n",
    "print(\"Values of Train BER are {}\".format(y0))\n",
    "print(\"Values of Test BER are {}\".format(y1))\n",
    "print(\"Values of Validation BER are {}\".format(y2))\n",
    "fig = plt.figure()\n",
    "fig.clear()\n",
    "plt.title('Balanced Error Rate vs Regularization Constant plot')\n",
    "plt.xlabel('log(Regularization Constant (C)) (log to the base 10)')\n",
    "plt.ylabel('Balanced Error Rate (BER)')\n",
    "ax = fig.add_subplot(1, 1, 1)\n",
    "A, = ax.plot(x, y0, color='tab:blue')\n",
    "B, = ax.plot(x, y1, color='tab:orange')\n",
    "C, = ax.plot(x, y2, color='tab:green')\n",
    "plt.legend([A,B,C], [\"training BER\", \"testing BER\", \"validation BER\"])"
   ]
  },
  {
   "cell_type": "markdown",
   "metadata": {},
   "source": [
    "### Question 5 - Precision Recall Curve Plot"
   ]
  },
  {
   "cell_type": "code",
   "execution_count": 48,
   "metadata": {},
   "outputs": [
    {
     "name": "stdout",
     "output_type": "stream",
     "text": [
      "Average precision-recall score: 0.58\n"
     ]
    },
    {
     "data": {
      "text/plain": [
       "Text(0.5, 1.0, '2-class Precision-Recall curve: AP=0.58')"
      ]
     },
     "execution_count": 48,
     "metadata": {},
     "output_type": "execute_result"
    },
    {
     "data": {
      "image/png": "[encoded data removed]",
      "text/plain": [
       "<Figure size 432x288 with 1 Axes>"
      ]
     },
     "metadata": {
      "needs_background": "light"
     },
     "output_type": "display_data"
    }
   ],
   "source": [
    "# We import this matplotlib package for further analysis using PyPlot\n",
    "import matplotlib.pyplot as plt\n",
    "from sklearn.metrics import precision_recall_curve\n",
    "from sklearn.metrics import plot_precision_recall_curve\n",
    "import matplotlib.pyplot as plt\n",
    "\n",
    "test_predictions = model.predict(X_test)\n",
    "average_precision = average_precision_score(Y_test, test_predictions)\n",
    "\n",
    "print('Average precision-recall score: {0:0.2f}'.format(average_precision))\n",
    "disp = plot_precision_recall_curve(model, X_test, Y_test)\n",
    "disp.ax_.set_title('2-class Precision-Recall curve: '\n",
    "                   'AP={0:0.2f}'.format(average_precision))"
   ]
  },
  {
   "cell_type": "markdown",
   "metadata": {},
   "source": [
    "### Task : Community Detection - Data Parsing"
   ]
  },
  {
   "cell_type": "code",
   "execution_count": 12,
   "metadata": {},
   "outputs": [
    {
     "name": "stdout",
     "output_type": "stream",
     "text": [
      "(881, 858)\n"
     ]
    }
   ],
   "source": [
    "def parseDataFromFile(fname):\n",
    "    lines = []\n",
    "    for line in open(fname):\n",
    "        content = line.rstrip('\\n').split(' ')\n",
    "        content_int = []\n",
    "        for val in content:\n",
    "            content_int.append(int(val))\n",
    "        lines.append(tuple(content_int))\n",
    "    return lines\n",
    "data = list(parseDataFromFile(\"C:\\\\Users\\\\ramasarma\\\\Documents\\\\UCSD\\\\Fall 2020\\\\CSE 258\\\\Homework2\\\\egonet.txt\"))\n",
    "print(data[0])"
   ]
  },
  {
   "cell_type": "markdown",
   "metadata": {},
   "source": [
    "### Question 6 - Computed Largest connected component and it's size"
   ]
  },
  {
   "cell_type": "code",
   "execution_count": 15,
   "metadata": {},
   "outputs": [
    {
     "name": "stdout",
     "output_type": "stream",
     "text": [
      "540 61\n"
     ]
    },
    {
     "data": {
      "image/png": "[encoded data removed]",
      "text/plain": [
       "<Figure size 432x288 with 1 Axes>"
      ]
     },
     "metadata": {},
     "output_type": "display_data"
    },
    {
     "name": "stdout",
     "output_type": "stream",
     "text": [
      "61 270\n",
      "The number of connected components in the graph are 3\n",
      "The size of the largest connected component in the graph is 40\n",
      "The largest connected component in the graph is {769, 772, 774, 798, 800, 803, 804, 805, 810, 811, 819, 823, 697, 825, 828, 830, 703, 708, 840, 713, 719, 856, 729, 861, 863, 864, 869, 745, 747, 876, 878, 880, 753, 882, 884, 886, 888, 889, 890, 893}\n"
     ]
    },
    {
     "data": {
      "text/plain": [
       "<Figure size 432x288 with 0 Axes>"
      ]
     },
     "metadata": {},
     "output_type": "display_data"
    }
   ],
   "source": [
    "import urllib\n",
    "import networkx as nx\n",
    "import matplotlib.pyplot as plt\n",
    "\n",
    "edges = set()\n",
    "nodes = set()\n",
    "for edge in open(\"C:\\\\Users\\\\ramasarma\\\\Documents\\\\UCSD\\\\Fall 2020\\\\CSE 258\\\\Homework2\\\\egonet.txt\", 'r'):\n",
    "    x,y = edge.split()\n",
    "    x,y = int(x),int(y)\n",
    "    edges.add((x,y))\n",
    "    edges.add((y,x))\n",
    "    nodes.add(x)\n",
    "    nodes.add(y)\n",
    "print(len(edges), len(nodes))\n",
    "G = nx.Graph()\n",
    "for e in edges:\n",
    "    G.add_edge(e[0],e[1])\n",
    "nx.draw(G)\n",
    "plt.show()\n",
    "plt.clf()\n",
    "\n",
    "\n",
    "# G = nx.Graph()\n",
    "# G.add_edges_from(data)\n",
    "print(G.number_of_nodes(), G.number_of_edges())\n",
    "connected_components = nx.algorithms.components.number_connected_components(G)\n",
    "print(\"The number of connected components in the graph are {}\".format(connected_components))\n",
    "largest_connected_component = max(nx.connected_components(G), key=len)\n",
    "length_cc = len(largest_connected_component)\n",
    "print(\"The size of the largest connected component in the graph is {}\".format(length_cc))\n",
    "print(\"The largest connected component in the graph is {}\".format(largest_connected_component))"
   ]
  },
  {
   "cell_type": "markdown",
   "metadata": {},
   "source": [
    "### Question 7 - Greedy implementation (based on the ID)"
   ]
  },
  {
   "cell_type": "code",
   "execution_count": 16,
   "metadata": {},
   "outputs": [
    {
     "name": "stdout",
     "output_type": "stream",
     "text": [
      "The first 50% split is [697, 703, 708, 713, 719, 729, 745, 747, 753, 769, 772, 774, 798, 800, 803, 804, 805, 810, 811, 819]\n",
      "The second 50% split is [823, 825, 828, 830, 840, 856, 861, 863, 864, 869, 876, 878, 880, 882, 884, 886, 888, 889, 890, 893]\n",
      "Number of normalized cuts = 0.8448117539026632\n"
     ]
    }
   ],
   "source": [
    "largest_cc = [node for node in largest_connected_component]\n",
    "largest_cc.sort()\n",
    "A = largest_cc[:length_cc//2]\n",
    "B = largest_cc[length_cc//2:]\n",
    "print(\"The first 50% split is {}\".format(A))\n",
    "print(\"The second 50% split is {}\".format(B))\n",
    "normalized_cuts = nx.algorithms.normalized_cut_size(G, A, B)\n",
    "print(\"Number of normalized cuts = {}\".format(normalized_cuts))"
   ]
  },
  {
   "cell_type": "markdown",
   "metadata": {},
   "source": [
    "### Question 8 - Greedy algorithm implementation"
   ]
  },
  {
   "cell_type": "code",
   "execution_count": 17,
   "metadata": {},
   "outputs": [
    {
     "name": "stdout",
     "output_type": "stream",
     "text": [
      "Prev norm cost, current norm cost, consecutive_iter_count and min_cut_ID = 0.8448117539026632, 0.7746639325586694, 0 and 729\n",
      "Prev norm cost, current norm cost, consecutive_iter_count and min_cut_ID = 0.7746639325586694, 0.6909090909090909, 0 and 804\n",
      "Prev norm cost, current norm cost, consecutive_iter_count and min_cut_ID = 0.6909090909090909, 0.6136680613668061, 0 and 828\n",
      "Prev norm cost, current norm cost, consecutive_iter_count and min_cut_ID = 0.6136680613668061, 0.5332652931045481, 0 and 823\n",
      "Prev norm cost, current norm cost, consecutive_iter_count and min_cut_ID = 0.5332652931045481, 0.4515382431930828, 0 and 830\n",
      "Prev norm cost, current norm cost, consecutive_iter_count and min_cut_ID = 0.4515382431930828, 0.35752979414951247, 0 and 840\n",
      "Prev norm cost, current norm cost, consecutive_iter_count and min_cut_ID = 0.35752979414951247, 0.2942872298715376, 0 and 880\n",
      "Prev norm cost, current norm cost, consecutive_iter_count and min_cut_ID = 0.2942872298715376, 0.25900025900025897, 0 and 890\n",
      "Prev norm cost, current norm cost, consecutive_iter_count and min_cut_ID = 0.25900025900025897, 0.222591602225916, 0 and 869\n",
      "Prev norm cost, current norm cost, consecutive_iter_count and min_cut_ID = 0.222591602225916, 0.19634091923248548, 0 and 856\n",
      "Prev norm cost, current norm cost, consecutive_iter_count and min_cut_ID = 0.19634091923248548, 0.19634091923248548, 1 and 856\n",
      "After performing the split, we get the following clusters of nodes,\n",
      " A = [697, 703, 708, 713, 719, 745, 747, 753, 769, 772, 774, 798, 800, 803, 805, 810, 811, 819, 828, 823, 830, 840, 880, 890, 869, 856] and \n",
      " B = [825, 861, 863, 864, 876, 878, 882, 884, 886, 888, 889, 893, 729, 804]\n",
      "The normalized cut cost after performing the split is 0.19634091923248548\n"
     ]
    }
   ],
   "source": [
    "import sys\n",
    "\n",
    "largest_cc = [node for node in largest_connected_component]\n",
    "largest_cc.sort()\n",
    "A = largest_cc[:length_cc//2]\n",
    "B = largest_cc[length_cc//2:]\n",
    "current_norm_cost = normalized_cuts\n",
    "idx_A = 0\n",
    "prev_norm_cost = current_norm_cost\n",
    "consecutive_iter_count = 0\n",
    "min_cut_ID = 1000\n",
    "#while(prev_norm_cost != current_norm_cost or consecutive_iter_count < 100):\n",
    "while(True):\n",
    "    # Choose the node that results in minimizing cut cost\n",
    "    norm_cut_cost_A = [sys.maxsize] * len(A)\n",
    "    norm_cut_cost_B = [sys.maxsize] * len(B)\n",
    "    idx_A, idx_B = 0, 0\n",
    "    min_cut_cost = sys.maxsize\n",
    "    for idx_A in range(len(A)):\n",
    "        value = A.pop(idx_A)\n",
    "        B.append(value)\n",
    "        new_norm_cost = nx.algorithms.normalized_cut_size(G, A, B)        \n",
    "#         print(\"At idx_A = {}, new_norm_cost = {}, with len(A) = {}, len(B) = {}\".\\\n",
    "#               format(idx_A, new_norm_cost, len(A), len(B)))\n",
    "        if(new_norm_cost <= current_norm_cost):\n",
    "            norm_cut_cost_A[idx_A] = new_norm_cost\n",
    "            A.insert(idx_A, value)\n",
    "            B = B[:-1]\n",
    "        else:\n",
    "            # Reset the deletion\n",
    "            A.insert(idx_A, value)\n",
    "            B = B[:-1]\n",
    "        \n",
    "    for idx_B in range(len(B)):\n",
    "        value = B.pop(idx_B)\n",
    "        A.append(value)\n",
    "        new_norm_cost = nx.algorithms.normalized_cut_size(G, A, B)\n",
    "#         print(\"At idx_B = {}, new_norm_cost = {}, with len(A) = {}, len(B) = {}\".\\\n",
    "#               format(idx_B, new_norm_cost, len(A), len(B)))\n",
    "        if(new_norm_cost <= current_norm_cost):\n",
    "            norm_cut_cost_B[idx_B] = new_norm_cost\n",
    "            B.insert(idx_B, value)\n",
    "            A = A[:-1]\n",
    "        else:\n",
    "            # Reset the deletion\n",
    "            B.insert(idx_B, value)\n",
    "            A = A[:-1]\n",
    "    \n",
    "    # We have the indices and the costs for each move for A and B\n",
    "    move_from_A_to_B = False\n",
    "    move_from_B_to_A = False\n",
    "#     print(\"Contents of norm_cut_cost A are\")\n",
    "#     print(norm_cut_cost_A)\n",
    "#     print(\"Contents of norm_cut_cost B are\")\n",
    "#     print(norm_cut_cost_B)\n",
    "    for i in range(len(norm_cut_cost_A)):\n",
    "        if(norm_cut_cost_A[i] != sys.maxsize):\n",
    "            if(norm_cut_cost_A[i] <= min_cut_cost):\n",
    "                #Tie Breaker logic\n",
    "                if(norm_cut_cost_A[i] == min_cut_cost):\n",
    "                    if(A[i] < min_cut_ID):\n",
    "                        min_cut_ID = A[i]\n",
    "                        move_from_A_to_B = True\n",
    "                        move_from_B_to_A = False\n",
    "                    # Dont update the min cut ID\n",
    "                else:\n",
    "                    # min_cut_cost > norm_cut_cost_A[i]\n",
    "                    min_cut_ID = A[i]\n",
    "                    move_from_A_to_B = True\n",
    "                    move_from_B_to_A = False\n",
    "                # Update the min cut cost\n",
    "                min_cut_cost = norm_cut_cost_A[i]\n",
    "    #print(\"At the end of processing norm_cut_cost_A, we get min_cut_cost = {}\".format(min_cut_cost))\n",
    "    for i in range(len(norm_cut_cost_B)):        \n",
    "        if(norm_cut_cost_B[i] != sys.maxsize):\n",
    "            if(norm_cut_cost_B[i] <= min_cut_cost):\n",
    "                #Tie Breaker logic\n",
    "                if(norm_cut_cost_B[i] == min_cut_cost):\n",
    "                    if(B[i] < min_cut_ID):\n",
    "                        min_cut_ID = B[i]\n",
    "                        move_from_A_to_B = False\n",
    "                        move_from_B_to_A = True\n",
    "                    # Dont update the min cut ID\n",
    "                else:\n",
    "                    # Case when the min_cut_ID should be updated\n",
    "                    min_cut_ID = B[i]\n",
    "                    move_from_A_to_B = False\n",
    "                    move_from_B_to_A = True\n",
    "                # Update the min cut cost\n",
    "                min_cut_cost = norm_cut_cost_B[i]\n",
    "    #print(\"At the end of processing norm_cut_cost_B, we get min_cut_cost = {}\".format(min_cut_cost))\n",
    "    prev_norm_cost = current_norm_cost\n",
    "#     print(\"Min cut cost, move_from_A_to_B, move_from_B_to_A = {}, {} and {}\".\\\n",
    "#           format(min_cut_cost, move_from_A_to_B, move_from_B_to_A))\n",
    "    if min_cut_cost != sys.maxsize:\n",
    "        # Move it from A to B\n",
    "        if(move_from_A_to_B):\n",
    "            A.remove(min_cut_ID)\n",
    "            B.append(min_cut_ID)\n",
    "            consecutive_iter_count = 0\n",
    "            current_norm_cost = min_cut_cost\n",
    "        # Move it from B to A\n",
    "        elif(move_from_B_to_A):\n",
    "            B.remove(min_cut_ID)\n",
    "            A.append(min_cut_ID)\n",
    "            consecutive_iter_count = 0\n",
    "            current_norm_cost = min_cut_cost\n",
    "        else: # No movements from A to B\n",
    "            consecutive_iter_count += 1\n",
    "    else:\n",
    "        consecutive_iter_count += 1\n",
    "    \n",
    "    print(\"Prev norm cost, current norm cost, consecutive_iter_count and min_cut_ID = {}, {}, {} and {}\".\\\n",
    "          format(prev_norm_cost, current_norm_cost, consecutive_iter_count, min_cut_ID))\n",
    "    \n",
    "    if(move_from_B_to_A == False and move_from_A_to_B == False):\n",
    "        break\n",
    "print(\"After performing the split, we get the following clusters of nodes,\\n A = {} and \\n B = {}\".format(A, B))\n",
    "print(\"The normalized cut cost after performing the split is {}\".format(current_norm_cost))"
   ]
  },
  {
   "cell_type": "code",
   "execution_count": null,
   "metadata": {},
   "outputs": [],
   "source": []
  }
 ],
 "metadata": {
  "kernelspec": {
   "display_name": "Python 3",
   "language": "python",
   "name": "python3"
  },
  "language_info": {
   "codemirror_mode": {
    "name": "ipython",
    "version": 3
   },
   "file_extension": ".py",
   "mimetype": "text/x-python",
   "name": "python",
   "nbconvert_exporter": "python",
   "pygments_lexer": "ipython3",
   "version": "3.7.4"
  }
 },
 "nbformat": 4,
 "nbformat_minor": 4
}
