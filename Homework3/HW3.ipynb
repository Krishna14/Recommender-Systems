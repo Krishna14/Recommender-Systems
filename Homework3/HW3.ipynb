{
 "cells": [
  {
   "cell_type": "code",
   "execution_count": 1,
   "metadata": {},
   "outputs": [],
   "source": [
    "import numpy as np\n",
    "import ast\n",
    "import urllib\n",
    "import matplotlib.pyplot as plt\n",
    "import random\n",
    "from collections import defaultdict\n",
    "import scipy.optimize\n",
    "from sklearn import linear_model # To perform logistic regression\n",
    "from sklearn.preprocessing import LabelEncoder # Perform label based encoding here\n",
    "from sklearn.preprocessing import OneHotEncoder # Perform one hot encoding here"
   ]
  },
  {
   "cell_type": "code",
   "execution_count": 2,
   "metadata": {},
   "outputs": [],
   "source": [
    "def parseDataFromFile(fname):\n",
    "    \"\"\" Read through the file and return results\"\"\"\n",
    "    for l in open(fname, encoding=\"utf8\"):\n",
    "        yield ast.literal_eval(l)"
   ]
  },
  {
   "cell_type": "code",
   "execution_count": 3,
   "metadata": {},
   "outputs": [
    {
     "name": "stdout",
     "output_type": "stream",
     "text": [
      "{'hours': 0.3, 'gameID': 'b96045472', 'hours_transformed': 0.37851162325372983, 'early_access': False, 'date': '2015-04-08', 'text': '+1', 'userID': 'u01561183'}\n"
     ]
    }
   ],
   "source": [
    "dataset = list(parseDataFromFile(\"C:\\\\Users\\\\ramasarma\\\\Documents\\\\UCSD\\\\Fall 2020\\\\CSE 258\\\\Assignment1\\\\assignment1\\\\train.json\"))\n",
    "print(dataset[0])"
   ]
  },
  {
   "cell_type": "code",
   "execution_count": 4,
   "metadata": {},
   "outputs": [
    {
     "name": "stdout",
     "output_type": "stream",
     "text": [
      "175000\n"
     ]
    }
   ],
   "source": [
    "print(len(dataset))\n",
    "training_validation_boundary = 165000\n",
    "# Here, we compute the boundaries between the training and validation set\n",
    "training_set = dataset[:training_validation_boundary]\n",
    "validation_set = dataset[training_validation_boundary:]"
   ]
  },
  {
   "cell_type": "code",
   "execution_count": 5,
   "metadata": {},
   "outputs": [
    {
     "name": "stdout",
     "output_type": "stream",
     "text": [
      "{'hours': 0.3, 'gameID': 'b96045472', 'hours_transformed': 0.37851162325372983, 'early_access': False, 'date': '2015-04-08', 'text': '+1', 'userID': 'u01561183'}\n",
      "{'hours': 5.7, 'gameID': 'b25961467', 'hours_transformed': 2.7441610955704103, 'early_access': False, 'date': '2017-11-23', 'text': 'Kerbals need you, buy this game.  Enough said.', 'userID': 'u49969792'}\n",
      "<class 'dict'>\n"
     ]
    }
   ],
   "source": [
    "print(training_set[0])\n",
    "print(validation_set[0])\n",
    "print(type(validation_set[0]))"
   ]
  },
  {
   "cell_type": "markdown",
   "metadata": {},
   "source": [
    "### Question 1 - Adding negative samples + Baseline Model"
   ]
  },
  {
   "cell_type": "code",
   "execution_count": 8,
   "metadata": {},
   "outputs": [
    {
     "name": "stdout",
     "output_type": "stream",
     "text": [
      "Done...\n"
     ]
    }
   ],
   "source": [
    "usersPerGame = defaultdict(set) # list of userIDs per game\n",
    "gamesPerUser = defaultdict(set) # list of gameIDs per user\n",
    "reviewsPerUser = defaultdict(list)\n",
    "reviewsPerGame = defaultdict(list)\n",
    "gameIDs = [] # This contains the entire list of games\n",
    "\n",
    "usersPerGame_training = defaultdict(set) # list of userIDs per game\n",
    "gamesPerUser_training = defaultdict(set) # list of gameIDs per user\n",
    "reviewsPerUser_training = defaultdict(list)\n",
    "reviewsPerGame_training = defaultdict(list)\n",
    "gameIDs_training = [] # This contains the entire list of games\n",
    "\n",
    "usersPerGame_validation = defaultdict(set) # list of userIDs per game\n",
    "gamesPerUser_validation = defaultdict(set) # list of gameIDs per user\n",
    "reviewsPerUser_validation = defaultdict(list)\n",
    "reviewsPerGame_validation = defaultdict(list)\n",
    "gameIDs_validation = [] # This contains the entire list of games\n",
    "\n",
    "# Computing maps and lists for all samples\n",
    "for d in dataset:\n",
    "    userID, gameID = d['userID'], d['gameID']\n",
    "    usersPerGame[gameID].add(userID)\n",
    "    gamesPerUser[userID].add(gameID)\n",
    "    reviewsPerUser[userID].append(d)\n",
    "    reviewsPerGame[gameID].append(d)\n",
    "    if gameID not in gameIDs:\n",
    "        gameIDs.append(gameID)\n",
    "        \n",
    "# Computing maps and lists for training set samples\n",
    "for d in training_set:\n",
    "    userID, gameID = d['userID'], d['gameID']\n",
    "    usersPerGame_training[gameID].add(userID)\n",
    "    gamesPerUser_training[userID].add(gameID) # list of gameIDs per user\n",
    "    reviewsPerUser_training[userID].append(d)\n",
    "    reviewsPerGame_training[gameID].append(d)\n",
    "    if gameID not in gameIDs_training:\n",
    "        gameIDs_training.append(gameID)\n",
    "        \n",
    "# Computing maps and lists for training set samples\n",
    "for d in validation_set:\n",
    "    userID, gameID = d['userID'], d['gameID']\n",
    "    usersPerGame_validation[gameID].add(userID)\n",
    "    gamesPerUser_validation[userID].add(gameID) # list of gameIDs per user\n",
    "    reviewsPerUser_validation[userID].append(d)\n",
    "    reviewsPerGame_validation[gameID].append(d)\n",
    "    if gameID not in gameIDs_training:\n",
    "        gameIDs_validation.append(gameID)\n",
    "print(\"Done...\")"
   ]
  },
  {
   "cell_type": "code",
   "execution_count": 18,
   "metadata": {},
   "outputs": [
    {
     "name": "stdout",
     "output_type": "stream",
     "text": [
      "New validation set, Old validation set lengths = 20000, 10000\n"
     ]
    }
   ],
   "source": [
    "# For every sample in the validation set,\n",
    "# how do we compute the randomly chosen game?\n",
    "new_set = []\n",
    "for sample in validation_set:\n",
    "    # Compute the sample (userID, gameID)\n",
    "    userID, gameID = sample['userID'], sample['gameID']\n",
    "    gamesNotPlayed = []\n",
    "    # From the entire list of games that all users have played.\n",
    "    for game in gameIDs:\n",
    "        # Find all those that this user hasn't played\n",
    "        if(game not in gamesPerUser[userID]):\n",
    "            gamesNotPlayed.append(game)\n",
    "    # By default, the following values will be used for the review\n",
    "    # 'hours': -1, 'gameID': randomly chosen, 'hours_transformed': -1, 'early_access': False, 'date': '',\n",
    "    # 'text': '', 'userID': userID\n",
    "    # Randomly choose one game from that list of games that user hasn't played\n",
    "    random.seed()\n",
    "    random_gameID = random.choice(gamesNotPlayed)\n",
    "    #print(\"For userID = {}, randomly chosen game = {}\".format(userID, random_gameID))\n",
    "    new_data = {'hours': 0, 'gameID': str(random_gameID),\\\n",
    "                'hours_transformed': 0, 'early_access': False,\\\n",
    "                'date': '', 'text': '', 'userID': str(userID)}\n",
    "    new_set.append(new_data)\n",
    "    \n",
    "updated_validation_set = validation_set + new_set\n",
    "print(\"New validation set, Old validation set lengths = {}, {}\".\\\n",
    "      format(len(updated_validation_set), len(validation_set)))"
   ]
  },
  {
   "cell_type": "markdown",
   "metadata": {},
   "source": [
    "### Baseline Model"
   ]
  },
  {
   "cell_type": "code",
   "execution_count": 134,
   "metadata": {},
   "outputs": [
    {
     "name": "stdout",
     "output_type": "stream",
     "text": [
      "Accuracy of the baseline prediction on validation set is 0.6658\n",
      "Accuracy of the old validation set is 0.5004\n"
     ]
    }
   ],
   "source": [
    "from collections import defaultdict\n",
    "\n",
    "def compute_performance_validation(validation_set,threshold, synthetic_sampling):\n",
    "    \"\"\" Computes the performance on the validation set with the given threshold\"\"\"\n",
    "    gameCount = defaultdict(int)\n",
    "    totalPlayed = 0 # Total games played by users in the validation set\n",
    "    \n",
    "    for d in validation_set:\n",
    "        user, game = d['userID'], d['gameID']\n",
    "        gameCount[game] += 1\n",
    "        totalPlayed += 1\n",
    "        \n",
    "    mostPopular = [(gameCount[x],x) for x in gameCount]\n",
    "    mostPopular.sort()\n",
    "    mostPopular.reverse()\n",
    "    \n",
    "    mostPlayedGames = set()\n",
    "    count = 0\n",
    "    for ic, i in mostPopular:\n",
    "        count += ic\n",
    "        mostPlayedGames.add(i)\n",
    "        if(count > float(totalPlayed * threshold)): break\n",
    "    \n",
    "    actual_y, predicted_y, comparison = [], [], []\n",
    "    # For every index in the range of the length of the validation set\n",
    "    for i in range(len(validation_set)):\n",
    "        # Computing actual_y\n",
    "        if(synthetic_sampling):\n",
    "            if i < len(validation_set)/2:\n",
    "                actual_y.append(1)\n",
    "            else:\n",
    "                actual_y.append(0)\n",
    "        else:\n",
    "            # All are positive samples\n",
    "            actual_y.append(1)\n",
    "        # Computing predicted_y\n",
    "        if validation_set[i]['gameID'] in mostPlayedGames:\n",
    "            predicted_y.append(1)\n",
    "        else:\n",
    "            predicted_y.append(0)\n",
    "        # Comparing them    \n",
    "        if(predicted_y[i] == actual_y[i]):\n",
    "            comparison.append(1)\n",
    "        else:\n",
    "            comparison.append(0)\n",
    "    \n",
    "#     print(\"comparison, actual_y, predicted_y lengths are {}, {} and {}\".\\\n",
    "#           format(len(comparison), len(actual_y), len(predicted_y)))\n",
    "    accuracy = sum(comparison)/len(comparison)\n",
    "    return accuracy\n",
    "    \n",
    "accuracy = compute_performance_validation(updated_validation_set, 0.5, True) # two signifies 50% threshold\n",
    "accuracy_old = compute_performance_validation(validation_set, 0.5, False)\n",
    "print(\"Accuracy of the baseline prediction on validation set is {}\".format(accuracy))\n",
    "print(\"Accuracy of the old validation set is {}\".format(accuracy_old))"
   ]
  },
  {
   "cell_type": "markdown",
   "metadata": {},
   "source": [
    "### Question 2"
   ]
  },
  {
   "cell_type": "code",
   "execution_count": 135,
   "metadata": {},
   "outputs": [
    {
     "name": "stdout",
     "output_type": "stream",
     "text": [
      "On the modified validation set, the maximum accuracy is 0.6739 and it occurs at a threshold of 0.36000000000000004\n"
     ]
    },
    {
     "data": {
      "image/png": "[encoded data removed]",
      "text/plain": [
       "<Figure size 360x216 with 1 Axes>"
      ]
     },
     "metadata": {
      "needs_background": "light"
     },
     "output_type": "display_data"
    },
    {
     "name": "stdout",
     "output_type": "stream",
     "text": [
      "On the original validation set, the maximum accuracy is 0.9901 and it occurs at a threshold of 0.99\n"
     ]
    },
    {
     "data": {
      "image/png": "[encoded data removed]",
      "text/plain": [
       "<Figure size 360x216 with 1 Axes>"
      ]
     },
     "metadata": {
      "needs_background": "light"
     },
     "output_type": "display_data"
    }
   ],
   "source": [
    "thresholds = [i for i in np.arange(0.01, 1, 0.01)]\n",
    "#print(thresholds[:5])\n",
    "accuracies = {}\n",
    "for thres in thresholds:\n",
    "    acc = compute_performance_validation(updated_validation_set, thres, True)\n",
    "    accuracies[thres] = acc\n",
    "x, y = [], []\n",
    "max_acc, max_thres = -1, -1\n",
    "for key, value in accuracies.items():\n",
    "    x.append(key), y.append(value)\n",
    "    if(value > max_acc):\n",
    "        max_acc = value\n",
    "        max_thres = key\n",
    "print(\"On the modified validation set, the maximum accuracy is {} and it occurs at a threshold of {}\".\\\n",
    "     format(max_acc, max_thres))\n",
    "fig, ax = plt.subplots(figsize=(5, 3))\n",
    "# Define x and y axes\n",
    "ax.plot(x, y)\n",
    "plt.title('Accuracy vs threshold on Synthetic sampled dataset')\n",
    "plt.xlabel('Threshold')\n",
    "plt.ylabel('Accuracy')\n",
    "plt.show()\n",
    "\n",
    "accuracies_old = {}\n",
    "for thres in thresholds:\n",
    "    acc = compute_performance_validation(validation_set, thres, False)\n",
    "    accuracies_old[thres] = acc\n",
    "x, y = [], []\n",
    "max_acc, max_thres = -1, -1\n",
    "for key, value in accuracies_old.items():\n",
    "    x.append(key), y.append(value)\n",
    "    if(value > max_acc):\n",
    "        max_acc = value\n",
    "        max_thres = key\n",
    "print(\"On the original validation set, the maximum accuracy is {} and it occurs at a threshold of {}\".\\\n",
    "     format(max_acc, max_thres))\n",
    "fig_1, ax_1 = plt.subplots(figsize=(5, 3))\n",
    "# Define x and y axes\n",
    "ax_1.plot(x, y)\n",
    "plt.title('Accuracy vs threshold on original dataset')\n",
    "plt.xlabel('Threshold')\n",
    "plt.ylabel('Accuracy')\n",
    "plt.show()"
   ]
  },
  {
   "cell_type": "markdown",
   "metadata": {},
   "source": [
    "A threshold value of 0.36  gives the best result for accuracy. Instead of dividing by 2, I used fractional multiples of total games played to achieve a finer sweep on the independent variable. The ideal threshold occurs at 0.36 * total games played"
   ]
  },
  {
   "cell_type": "code",
   "execution_count": 6,
   "metadata": {},
   "outputs": [],
   "source": [
    "def jaccard(s1, s2):\n",
    "    \"\"\" This function helps us to compute the Jaccard coefficient for the two sets S1 and S2\"\"\"\n",
    "    numerator = len(s1.intersection(s2))\n",
    "    denominator = len(s1.union(s2))\n",
    "    return numerator/denominator"
   ]
  },
  {
   "cell_type": "code",
   "execution_count": 7,
   "metadata": {},
   "outputs": [],
   "source": [
    "import math\n",
    "\n",
    "def cosine_similarity(s1, s2):\n",
    "    \"\"\" This function helps one to compute the cosine similarity\"\"\"\n",
    "    numerator = len(s1.intersection(s2))\n",
    "    denominator = math.sqrt(len(s1) * len(s2))\n",
    "    return (numerator/denominator)"
   ]
  },
  {
   "cell_type": "code",
   "execution_count": 137,
   "metadata": {},
   "outputs": [
    {
     "name": "stdout",
     "output_type": "stream",
     "text": [
      " Maximum accuracy = 0.6728, threshold = 0.030999999999999986\n"
     ]
    },
    {
     "data": {
      "image/png": "[encoded data removed]",
      "text/plain": [
       "<Figure size 360x216 with 1 Axes>"
      ]
     },
     "metadata": {
      "needs_background": "light"
     },
     "output_type": "display_data"
    }
   ],
   "source": [
    "def similarity_based_performance(validation_set, threshold):\n",
    "    idx = 0\n",
    "    y_predicted, y_actual, comparison = [], [], []\n",
    "    for d in validation_set:\n",
    "        user, game = d['userID'], d['gameID']\n",
    "        games_training = gamesPerUser_training[user]\n",
    "        users_game = usersPerGame_training[game]\n",
    "        # For every training game in the list of games\n",
    "        # played by the user in the training set\n",
    "        max_similarity = -1\n",
    "        for training_game in games_training:\n",
    "            if training_game == game:\n",
    "                continue\n",
    "            users_training_game = usersPerGame_training[training_game]\n",
    "            similarity = jaccard(users_training_game, users_game)\n",
    "            max_similarity = max(similarity, max_similarity)\n",
    "        \n",
    "        if(max_similarity > threshold):\n",
    "            y_predicted.append(1)\n",
    "        else:\n",
    "            y_predicted.append(0)\n",
    "                \n",
    "        # This is a synthetic dataset. So, we know\n",
    "        # all users in first 10000 samples have played the game\n",
    "        # the remaining haven't played the game\n",
    "        if(idx < len(validation_set)/2):\n",
    "            y_actual.append(1)\n",
    "        else:\n",
    "            y_actual.append(0)\n",
    "        \n",
    "        if(y_actual[idx] == y_predicted[idx]):\n",
    "            comparison.append(1)\n",
    "        else:\n",
    "            comparison.append(0)\n",
    "        \n",
    "        idx += 1\n",
    "        \n",
    "    accuracy = sum(comparison)/len(comparison)\n",
    "    return accuracy\n",
    "\n",
    "thresholds = [i for i in np.arange(0.01, 0.034, 0.001)]\n",
    "accuracies = {}\n",
    "for thres in thresholds:\n",
    "    acc = similarity_based_performance(updated_validation_set, thres)\n",
    "    accuracies[thres] = acc\n",
    "\n",
    "x, y = [], []\n",
    "max_acc, max_thres = -1, -1\n",
    "for key, value in accuracies.items():\n",
    "    x.append(key), y.append(value)\n",
    "    if value > max_acc:\n",
    "        max_thres = key\n",
    "        max_acc = value\n",
    "print(\" Maximum accuracy = {}, threshold = {}\".format(max_acc, max_thres))\n",
    "\n",
    "fig, ax = plt.subplots(figsize=(5, 3))\n",
    "# Define x and y axes\n",
    "ax.plot(x, y)\n",
    "plt.show()"
   ]
  },
  {
   "cell_type": "markdown",
   "metadata": {},
   "source": [
    "After multiple trials with different values for the threshold, I have achieved an accuracy (0.6728) which is slightly lesser than the accuracy (0.6739) achieved using the baseline popularity based model."
   ]
  },
  {
   "cell_type": "markdown",
   "metadata": {},
   "source": [
    "### Question 4"
   ]
  },
  {
   "cell_type": "code",
   "execution_count": 141,
   "metadata": {},
   "outputs": [
    {
     "name": "stdout",
     "output_type": "stream",
     "text": [
      "Maximum accuracy = 0.684 and corresponding sim threshold, pop threshold are 0.03 and 0.61\n"
     ]
    }
   ],
   "source": [
    "def similarity_popularity_based_performance(validation_set, sim_th, pop_th):\n",
    "    idx = 0\n",
    "    similarities = []\n",
    "    # Compute similarity based values\n",
    "    for d in validation_set:\n",
    "        user, game = d['userID'], d['gameID']\n",
    "        games_training = gamesPerUser_training[user]\n",
    "        users_game = usersPerGame_training[game]\n",
    "        # For every training game in the list of games\n",
    "        # played by the user in the training set\n",
    "        max_similarity = -1\n",
    "        for training_game in games_training:\n",
    "            if training_game == game:\n",
    "                continue\n",
    "            users_training_game = usersPerGame_training[training_game]\n",
    "            similarity = jaccard(users_training_game, users_game)\n",
    "            max_similarity = max(similarity, max_similarity)\n",
    "        similarities.append(max_similarity)\n",
    "    \n",
    "    gameCount = defaultdict(int)\n",
    "    totalPlayed = 0 # Total games played by users in the validation set\n",
    "    \n",
    "    # Compute popularity based games\n",
    "    for d in validation_set:\n",
    "        user, game = d['userID'], d['gameID']\n",
    "        gameCount[game] += 1\n",
    "        totalPlayed += 1\n",
    "        \n",
    "    mostPopular = [(gameCount[x],x) for x in gameCount]\n",
    "    mostPopular.sort()\n",
    "    mostPopular.reverse()\n",
    "    \n",
    "    mostPlayedGames = set()\n",
    "    count = 0\n",
    "    for ic, i in mostPopular:\n",
    "        count += ic\n",
    "        mostPlayedGames.add(i)\n",
    "        if(count > float(totalPlayed * pop_th)): break\n",
    "    \n",
    "    predicted_y, actual_y = [], []\n",
    "    numerator, denominator = 0, 0\n",
    "    for i in range(len(validation_set)):\n",
    "        user, game = validation_set[i]['userID'], validation_set[i]['gameID']\n",
    "        if(game in mostPlayedGames and similarities[i] > sim_th):\n",
    "            predicted_y.append(1)\n",
    "        else:\n",
    "            predicted_y.append(0)\n",
    "        \n",
    "        if (i < len(validation_set) // 2):\n",
    "            actual_y.append(1)\n",
    "        else:\n",
    "            actual_y.append(0)\n",
    "    \n",
    "        if (actual_y[i] == predicted_y[i]):\n",
    "            numerator += 1\n",
    "        denominator += 1\n",
    "    \n",
    "    return (numerator/denominator)\n",
    "        \n",
    "# Similarity and popularity based thresholds\n",
    "similarity_thresholds = [i for i in np.arange(0.01, 0.04, 0.01)]\n",
    "popularity_thresholds = [i for i in np.arange(0.01, 1, 0.01)]\n",
    "accuracies = defaultdict(dict)\n",
    "max_acc, sim_threshold, pop_threshold = -1, -1, -1\n",
    "for sim_th in similarity_thresholds:\n",
    "    for pop_th in popularity_thresholds:\n",
    "        acc = similarity_popularity_based_performance(updated_validation_set, sim_th, pop_th)\n",
    "        accuracies[sim_th][pop_th] = acc\n",
    "        if(acc > max_acc):\n",
    "            max_acc = acc\n",
    "            sim_threshold = sim_th\n",
    "            pop_threshold = pop_th\n",
    "\n",
    "# Here, we compute the similarity and popularity thresholds\n",
    "print(\"Maximum accuracy = {} and corresponding sim threshold, pop threshold are {} and {}\".\\\n",
    "      format(max_acc, sim_threshold, pop_threshold))"
   ]
  },
  {
   "cell_type": "markdown",
   "metadata": {},
   "source": [
    "### Question 5"
   ]
  },
  {
   "cell_type": "code",
   "execution_count": 25,
   "metadata": {},
   "outputs": [
    {
     "name": "stdout",
     "output_type": "stream",
     "text": [
      "Maximum accuracy = 0.50255\n"
     ]
    }
   ],
   "source": [
    "def similarity_popularity_based_performance(validation_set, sim_th, pop_th):\n",
    "    idx = 0\n",
    "    similarities = []\n",
    "    # Compute similarity based values\n",
    "    for d in validation_set:\n",
    "        user, game = d['userID'], d['gameID']\n",
    "        games_training = gamesPerUser_training[user]\n",
    "        users_game = usersPerGame_training[game]\n",
    "        # For every training game in the list of games\n",
    "        # played by the user in the training set\n",
    "        max_similarity = -1\n",
    "        for training_game in games_training:\n",
    "            if training_game == game:\n",
    "                continue\n",
    "            users_training_game = usersPerGame_training[training_game]\n",
    "            similarity = jaccard(users_training_game, users_game)\n",
    "            max_similarity = max(similarity, max_similarity)\n",
    "        similarities.append(max_similarity)\n",
    "    \n",
    "    gameCount = defaultdict(int)\n",
    "    totalPlayed = 0 # Total games played by users in the validation set\n",
    "    \n",
    "    # Compute popularity based games\n",
    "    for d in validation_set:\n",
    "        user, game = d['userID'], d['gameID']\n",
    "        gameCount[game] += 1\n",
    "        totalPlayed += 1\n",
    "        \n",
    "    mostPopular = [(gameCount[x],x) for x in gameCount]\n",
    "    mostPopular.sort()\n",
    "    mostPopular.reverse()\n",
    "    \n",
    "    mostPlayedGames = set()\n",
    "    count = 0\n",
    "    for ic, i in mostPopular:\n",
    "        count += ic\n",
    "        mostPlayedGames.add(i)\n",
    "        if(count > float(totalPlayed * pop_th)): break\n",
    "    \n",
    "    predicted_y, actual_y = [], []\n",
    "    numerator, denominator = 0, 0\n",
    "    for i in range(len(validation_set)):\n",
    "        user, game = validation_set[i]['userID'], validation_set[i]['gameID']\n",
    "        if(game in mostPlayedGames and similarities[i] > sim_th):\n",
    "            predicted_y.append(1)\n",
    "        else:\n",
    "            predicted_y.append(0)\n",
    "        \n",
    "        if (i < len(validation_set) // 2):\n",
    "            actual_y.append(1)\n",
    "        else:\n",
    "            actual_y.append(0)\n",
    "    \n",
    "        if (actual_y[i] == predicted_y[i]):\n",
    "            numerator += 1\n",
    "        denominator += 1\n",
    "    \n",
    "    return (numerator/denominator)\n",
    "\n",
    "test_set = []\n",
    "predictions = open(\"C:\\\\Users\\\\ramasarma\\\\Documents\\\\UCSD\\\\Fall 2020\\\\CSE 258\\\\Assignment1\\\\assignment1\\\\predictions_Played.txt\", 'w')\n",
    "for l in open(\"C:\\\\Users\\\\ramasarma\\\\Documents\\\\UCSD\\\\Fall 2020\\\\CSE 258\\\\Assignment1\\\\assignment1\\\\pairs_Played.txt\"):\n",
    "    if l.startswith(\"userID\"):\n",
    "        #header\n",
    "        predictions.write(l)\n",
    "        continue\n",
    "    u,g = l.strip().split('-')\n",
    "    val = {}\n",
    "    val['userID'], val['gameID'] = u, g\n",
    "    test_set.append(val)\n",
    "\n",
    "acc = similarity_popularity_based_performance(test_set, 0.03, 0.61)\n",
    "print(\"Maximum accuracy = {}\".format(acc))"
   ]
  },
  {
   "cell_type": "code",
   "execution_count": 28,
   "metadata": {},
   "outputs": [
    {
     "name": "stdout",
     "output_type": "stream",
     "text": [
      "Length of the test and validation sets are 20000, 10000\n",
      "Uploaded the solution on Kaggle under the username : Severus Snape\n"
     ]
    }
   ],
   "source": [
    "test_set = []\n",
    "predictions = open(\"C:\\\\Users\\\\ramasarma\\\\Documents\\\\UCSD\\\\Fall 2020\\\\CSE 258\\\\Assignment1\\\\assignment1\\\\predictions_Played.txt\", 'w')\n",
    "for l in open(\"C:\\\\Users\\\\ramasarma\\\\Documents\\\\UCSD\\\\Fall 2020\\\\CSE 258\\\\Assignment1\\\\assignment1\\\\pairs_Played.txt\"):\n",
    "    if l.startswith(\"userID\"):\n",
    "        #header\n",
    "        predictions.write(l)\n",
    "        continue\n",
    "    u,g = l.strip().split('-')\n",
    "    val = {}\n",
    "    val['userID'], val['gameID'] = u, g\n",
    "    test_set.append(val)\n",
    "\n",
    "#test_set = validation_set + test_set\n",
    "print(\"Length of the test and validation sets are {}, {}\".format(len(test_set), len(validation_set)))\n",
    "def similarity_popularity_based_performance(test_set, sim_th, pop_th):\n",
    "    idx = 0\n",
    "    similarities = []\n",
    "    gameCount = defaultdict(int)\n",
    "    totalPlayed = 0 # Total games played by users in the validation set\n",
    "    # Compute similarity based values\n",
    "    for d in test_set:\n",
    "        user, game = d['userID'], d['gameID']\n",
    "        # Computing popularity related values\n",
    "        if game in gameIDs:\n",
    "            gameCount[game] += 1\n",
    "            totalPlayed += 1\n",
    "        # Computing similarity related values\n",
    "        games_training = gamesPerUser_training[user]\n",
    "        users_game = usersPerGame_training[game]\n",
    "        # For every training game in the list of games\n",
    "        # played by the user in the training set\n",
    "        max_similarity = -1\n",
    "        for training_game in games_training:\n",
    "            if training_game == game:\n",
    "                continue\n",
    "            users_training_game = usersPerGame_training[training_game]\n",
    "            similarity = jaccard(users_training_game, users_game)\n",
    "            max_similarity = max(similarity, max_similarity)\n",
    "        similarities.append(max_similarity)\n",
    "    \n",
    "    \n",
    "    mostPopular = [(gameCount[x],x) for x in gameCount]\n",
    "    mostPopular.sort()\n",
    "    mostPopular.reverse()\n",
    "    \n",
    "    mostPlayedGames = set()\n",
    "    count = 0\n",
    "    for ic, i in mostPopular:\n",
    "        count += ic\n",
    "        mostPlayedGames.add(i)\n",
    "        if(count > float(totalPlayed * pop_th)): break\n",
    "    \n",
    "    for i in range(len(test_set)):\n",
    "        user, game = test_set[i]['userID'], test_set[i]['gameID']\n",
    "        if(game in mostPlayedGames and similarities[i] > sim_th):\n",
    "            predictions.write(user + '-' + game + \",1\\n\")\n",
    "        else:\n",
    "            predictions.write(user + '-' + game + \",0\\n\")\n",
    "\n",
    "# Here, we compute the similarity based measures\n",
    "similarity_popularity_based_performance(test_set, 0.03, 0.61)\n",
    "print(\"Uploaded the solution on Kaggle under the username : Severus Snape\")\n",
    "predictions.close()"
   ]
  },
  {
   "cell_type": "markdown",
   "metadata": {},
   "source": [
    "### Question 9 - Time played prediction task"
   ]
  },
  {
   "cell_type": "code",
   "execution_count": 9,
   "metadata": {},
   "outputs": [],
   "source": [
    "training_validation_boundary = 165000\n",
    "training_dataset = dataset[:training_validation_boundary]\n",
    "validation_dataset = dataset[training_validation_boundary:]"
   ]
  },
  {
   "cell_type": "code",
   "execution_count": 10,
   "metadata": {},
   "outputs": [
    {
     "name": "stdout",
     "output_type": "stream",
     "text": [
      "Prediction mean for validation set is 3.7160737367374947\n",
      "Always predict mean MSE is 5.239113152666103\n",
      "MSE = 5.278092701060167\n",
      "MSE = 5.159380409631046\n",
      "MSE = 4.75125522591952\n",
      "MSE = 15.455063715573454\n",
      "MSE = 4.56219728837974\n",
      "MSE = 4.072835644521755\n",
      "MSE = 4.059828369804857\n",
      "MSE = 4.009576839392328\n",
      "MSE = 3.8370118130253084\n",
      "MSE = 3.4902841335350656\n",
      "MSE = 3.3123316530044558\n",
      "MSE = 3.105647657813199\n",
      "MSE = 3.0226969023856833\n",
      "MSE = 2.941545854649425\n",
      "MSE = 2.888259485783349\n",
      "MSE = 2.8573760567152084\n",
      "MSE = 2.853355921532098\n",
      "MSE = 2.849598738575017\n",
      "MSE = 2.851438672484217\n",
      "MSE = 2.8476936589416852\n",
      "MSE = 2.8414665296004684\n",
      "MSE = 2.8352309361568273\n",
      "MSE = 2.83104616609418\n",
      "MSE = 2.8308810123674846\n",
      "MSE = 2.8274494549687104\n",
      "MSE = 2.828754621383335\n",
      "MSE = 2.8297197865489347\n",
      "MSE = 2.8293641091826593\n",
      "MSE = 2.82781122772763\n",
      "MSE = 2.826492202340028\n",
      "MSE = 2.826012742150222\n",
      "MSE = 2.826345317917372\n",
      "MSE = 2.8260510304175517\n",
      "MSE = 2.826057165561701\n",
      "MSE = 2.826004016486386\n",
      "MSE = 2.8257060973964245\n",
      "MSE = 2.825417404173231\n",
      "MSE = 2.82518820924114\n",
      "MSE = 2.824970592653191\n",
      "MSE = 2.8249138663713182\n",
      "MSE = 2.8248860941370952\n",
      "MSE = 2.824752450759892\n",
      "MSE = 2.8247375855310874\n",
      "MSE = 2.8247344884723695\n",
      "MSE = 2.8246467266424995\n",
      "MSE = 2.8245420171376994\n",
      "MSE = 2.824449619580371\n",
      "MSE = 2.824486702995639\n",
      "MSE = 2.8244478353700697\n",
      "MSE = 2.824524383157662\n",
      "MSE = 2.8246573606062766\n",
      "MSE = 2.8248361822561\n",
      "MSE = 2.8251718760512063\n",
      "MSE = 2.825045374848855\n",
      "MSE = 2.8249981224672096\n",
      "MSE = 2.8247634703278073\n",
      "MSE = 2.824985685612036\n",
      "MSE = 2.8249519765885283\n",
      "MSE = 2.8253732736593973\n",
      "MSE = 2.825078700873671\n",
      "MSE = 2.8250574884378348\n",
      "MSE = 2.8252005777822315\n",
      "MSE = 2.8250753732333647\n",
      "MSE = 2.8251157356196477\n",
      "MSE = 2.825149478140037\n",
      "MSE = 2.8252023507323036\n",
      "MSE = 2.825253623496726\n",
      "MSE = 2.8252966827545962\n",
      "MSE = 2.8253165637216093\n",
      "MSE = 2.8253019731976425\n",
      "MSE = 2.825422482509649\n",
      "MSE = 2.825307226697922\n",
      "MSE = 2.8252860578314447\n",
      "MSE = 2.825257444074659\n",
      "MSE = 2.82523844116173\n",
      "MSE = 2.825216035517405\n",
      "MSE = 2.825210943536059\n",
      "MSE = 2.8252241110482723\n",
      "MSE = 2.825213670905807\n",
      "MSE = 2.8252440997599355\n",
      "MSE = 2.8252910210805746\n",
      "MSE = 2.825104970101414\n",
      "MSE = 2.825267440787976\n",
      "MSE = 2.825304878776624\n",
      "MSE = 2.825363823846397\n",
      "MSE = 2.825307243586659\n",
      "Optimizer done...\n"
     ]
    }
   ],
   "source": [
    "import numpy as np\n",
    "\n",
    "usersPerGame = defaultdict(set) # list of userIDs per game\n",
    "gamesPerUser = defaultdict(set) # list of gameIDs per user\n",
    "reviewsPerUser = defaultdict(list)\n",
    "reviewsPerGame = defaultdict(list)\n",
    "gameIDs = [] # This contains the entire list of games\n",
    "\n",
    "dataset = training_dataset\n",
    "\n",
    "for d in dataset:\n",
    "    user, game = d['userID'], d['gameID']\n",
    "    usersPerGame[game].add(user)\n",
    "    gamesPerUser[user].add(game)\n",
    "    reviewsPerUser[user].append(d)\n",
    "    reviewsPerGame[game].append(d)\n",
    "    # Inserting the gameID into the list of games\n",
    "    gameIDs.append(game)\n",
    "\n",
    "users = list(gamesPerUser.keys())\n",
    "games = list(usersPerGame.keys())\n",
    "numUsers = len(users)\n",
    "numGames = len(games)\n",
    "\n",
    "playPredictionMean = sum([d['hours_transformed'] for d in training_dataset]) / len(training_dataset)\n",
    "\n",
    "alpha = playPredictionMean\n",
    "userBiases = defaultdict(float)\n",
    "gameBiases = defaultdict(float)\n",
    "N = len(training_dataset)\n",
    "\n",
    "# Compute the prediction for the user and game\n",
    "def prediction(user, game):\n",
    "    return alpha + userBiases[user] + gameBiases[game]\n",
    "\n",
    "def unpack(theta):\n",
    "    \"\"\" theta = [alpha, beta_u, beta_i]\"\"\"\n",
    "    global alpha\n",
    "    global userBiases\n",
    "    global gameBiases\n",
    "    alpha = theta[0]\n",
    "    userBiases = dict(zip(users, theta[1:numUsers+1]))\n",
    "    gameBiases = dict(zip(games, theta[1+numUsers:]))\n",
    "\n",
    "def MSE(predictions, labels):\n",
    "    differences = [(x-y)**2 for x, y in zip(predictions, labels)]\n",
    "    return sum(differences)/len(differences)\n",
    "    \n",
    "def cost(theta, labels, lamb):\n",
    "    unpack(theta) \n",
    "    predictions = [prediction(d['userID'], d['gameID']) for d in dataset]\n",
    "    cost = MSE(predictions, labels)\n",
    "    print(\"MSE = \" + str(cost))\n",
    "    for u in userBiases:\n",
    "        cost += lamb/N * (userBiases[u] ** 2)\n",
    "    for g in gameBiases:\n",
    "        cost += lamb/N * (gameBiases[g] ** 2)\n",
    "    return cost\n",
    "\n",
    "def derivative(theta, labels, lamb):\n",
    "    # Current values of theta are unpacked\n",
    "    unpack(theta)\n",
    "    # Compute deriv_alpha, deriv_beta_g and deriv_beta_u\n",
    "    dalpha = 0\n",
    "    dUserBiases = defaultdict(float)\n",
    "    dGameBiases = defaultdict(float)\n",
    "    # For sample in dataset\n",
    "    for d in training_dataset:\n",
    "        user, game = d['userID'], d['gameID']\n",
    "        pred = prediction(user, game)\n",
    "        diff = pred - d['hours_transformed']\n",
    "        dalpha += 2/N * diff\n",
    "        dUserBiases[user] += 2/N * diff\n",
    "        dGameBiases[game] += 2/N * diff\n",
    "    for u in userBiases:\n",
    "        dUserBiases[u] += 2 * lamb/N * userBiases[u]\n",
    "    for g in gameBiases:\n",
    "        dGameBiases[g] += 2 * lamb/N * gameBiases[g]\n",
    "        \n",
    "    dtheta = [dalpha] + [dUserBiases[u] for u in users] + [dGameBiases[g] for g in games]\n",
    "    return np.array(dtheta)\n",
    "\n",
    "print(\"Prediction mean for validation set is {}\".format(playPredictionMean))\n",
    "# Compute the play prediction mean\n",
    "alwaysPredictMean = [playPredictionMean for d in validation_dataset]\n",
    "labels = [d['hours_transformed'] for d in training_dataset]\n",
    "mse = MSE(alwaysPredictMean, labels)\n",
    "print(\"Always predict mean MSE is {}\".format(mse))\n",
    "\n",
    "x, f, d = scipy.optimize.fmin_l_bfgs_b(cost, [playPredictionMean] + [0.0]*(numUsers + numGames), derivative,\\\n",
    "                                       args = (labels, 10), iprint=100, epsilon=1e-4)\n",
    "print(\"Optimizer done...\")\n",
    "# print(\"Estimated minima is {}\".format(x))\n",
    "# print(\"Estimated minimum value of cost function is {}\".format(f))\n",
    "# print(\"Return codes are {}\".format(d))\n"
   ]
  },
  {
   "cell_type": "markdown",
   "metadata": {},
   "source": [
    "Performance of the model developed based on the update equations is as follows -"
   ]
  },
  {
   "cell_type": "code",
   "execution_count": 11,
   "metadata": {},
   "outputs": [
    {
     "name": "stdout",
     "output_type": "stream",
     "text": [
      "After performing gradient descent using the new model, MSE on validation dataset is 3.004774614053037\n"
     ]
    }
   ],
   "source": [
    "unpack(x)\n",
    "predicted_y = [prediction(d['userID'], d['gameID']) for d in validation_dataset]\n",
    "actual_y = [d['hours_transformed'] for d in validation_dataset]\n",
    "mse_new = MSE(predicted_y, actual_y)\n",
    "print(\"After performing gradient descent using the new model, MSE on validation dataset is {}\".format(mse_new))"
   ]
  },
  {
   "cell_type": "code",
   "execution_count": 12,
   "metadata": {},
   "outputs": [
    {
     "name": "stdout",
     "output_type": "stream",
     "text": [
      "Question 10: UserID and max userBias with largest value of userBias is u37339658, 4.633751958771042\n",
      "Question 10: UserID and min userBias with smallest value of userBias is u79882368, -2.71537198581591\n",
      "Question 10: gameID and max gameBias with largest value of gameBias is b80191205, 5.02246993058167\n",
      "Question 10: gameID and min gameBias with smallest value of gameBias is b05546112, -2.497104166373016\n"
     ]
    }
   ],
   "source": [
    "min_userBias, min_gameBias = 100, 100\n",
    "max_userBias, max_gameBias = -1, -1\n",
    "userID_minBias, userID_maxBias = \" \", \" \"\n",
    "gameID_minBias, gameID_maxBias = \" \", \" \"\n",
    "for userID, userBias in userBiases.items():\n",
    "    if(userBias < min_userBias):\n",
    "        min_userBias = userBias\n",
    "        userID_minBias = userID\n",
    "    elif(userBias > max_userBias):\n",
    "        max_userBias = userBias\n",
    "        userID_maxBias = userID\n",
    "\n",
    "for gameID, gameBias in gameBiases.items():\n",
    "    if(gameBias < min_gameBias):\n",
    "        min_gameBias = gameBias\n",
    "        gameID_minBias = gameID\n",
    "    elif(gameBias > max_gameBias):\n",
    "        max_gameBias = gameBias\n",
    "        gameID_maxBias = gameID\n",
    "\n",
    "print(\"Question 10: UserID and max userBias with largest value of userBias is {}, {}\".\\\n",
    "     format(userID_maxBias, max_userBias))\n",
    "print(\"Question 10: UserID and min userBias with smallest value of userBias is {}, {}\".\\\n",
    "     format(userID_minBias, min_userBias))\n",
    "print(\"Question 10: gameID and max gameBias with largest value of gameBias is {}, {}\".\\\n",
    "     format(gameID_maxBias, max_gameBias))\n",
    "print(\"Question 10: gameID and min gameBias with smallest value of gameBias is {}, {}\".\\\n",
    "     format(gameID_minBias, min_gameBias))"
   ]
  },
  {
   "cell_type": "markdown",
   "metadata": {},
   "source": [
    "### Question 11"
   ]
  },
  {
   "cell_type": "code",
   "execution_count": 24,
   "metadata": {},
   "outputs": [
    {
     "name": "stdout",
     "output_type": "stream",
     "text": [
      "For lambda = 0.001, MSE = 3.0217734857651655\n",
      "For lambda = 0.01, MSE = 3.021558235521594\n",
      "For lambda = 0.1, MSE = 3.0201681473486532\n",
      "For lambda = 1.0, MSE = 3.008687335038025\n",
      "For lambda = 10.0, MSE = 3.004774614053037\n",
      "For lambda = 100.0, MSE = 3.4593363336892975\n",
      "Minimum MSE = 3.004774614053037 and lamb = 10.0\n"
     ]
    },
    {
     "data": {
      "image/png": "[encoded data removed]",
      "text/plain": [
       "<Figure size 360x216 with 1 Axes>"
      ]
     },
     "metadata": {
      "needs_background": "light"
     },
     "output_type": "display_data"
    }
   ],
   "source": [
    "import matplotlib.pyplot as plt\n",
    "import math\n",
    "\n",
    "lambdas = [10 ** i for i in np.arange(-3, 3, dtype=float)]\n",
    "#print(lambdas)\n",
    "mse_dict = defaultdict(float)\n",
    "min_mse = 10000\n",
    "best_lamb = 1\n",
    "for lamb in lambdas:\n",
    "    labels = [d['hours_transformed'] for d in training_dataset]\n",
    "    scipy.optimize.fmin_l_bfgs_b(cost,[playPredictionMean] + [0.0]*(numUsers + numGames), derivative, args = (labels, lamb))\n",
    "    predicted_y = [prediction(d['userID'], d['gameID']) for d in validation_dataset]\n",
    "    actual_y = [d['hours_transformed'] for d in validation_dataset]\n",
    "    mse_new = MSE(predicted_y, actual_y)\n",
    "    mse_dict[lamb] = mse_new\n",
    "    print(\"For lambda = {}, MSE = {}\".format(lamb, mse_new))\n",
    "    if(mse_new < min_mse):\n",
    "        min_mse = mse_new\n",
    "        best_lamb = lamb\n",
    "x, y = [], []\n",
    "for key, value in mse_dict.items():\n",
    "    x.append(key)\n",
    "    y.append(value)\n",
    "\n",
    "print(\"Minimum MSE = {} and lamb = {}\".format(min_mse, best_lamb))\n",
    "fig, ax = plt.subplots(figsize=(5, 3))\n",
    "# Define x and y axes\n",
    "x_log = [math.log10(val) for val in x]\n",
    "ax.plot(x_log, y)\n",
    "plt.title('MSE vs Lambda on validation set')\n",
    "plt.xlabel('Lambda')\n",
    "plt.ylabel('MSE')\n",
    "plt.show()"
   ]
  },
  {
   "cell_type": "markdown",
   "metadata": {},
   "source": [
    "We know the shape of the curve that's used for computing the value of $\\lambda$ using the validation set. The point where the minimum value of lambda is achieved, that's where the best MSE lies. The best value for MSE is at $\\lambda$ = 10"
   ]
  },
  {
   "cell_type": "code",
   "execution_count": 13,
   "metadata": {},
   "outputs": [
    {
     "name": "stdout",
     "output_type": "stream",
     "text": [
      "User name used for submission is Severus Snape\n"
     ]
    }
   ],
   "source": [
    "# labels = [d['hours_transformed'] for d in training_dataset]\n",
    "# x, f, d = scipy.optimize.fmin_l_bfgs_b(cost, [playPredictionMean] + [0.0]*(numUsers + numGames), derivative,\\\n",
    "#                                        args = (labels, 10), iprint=100, epsilon=1e-4)\n",
    "unpack(x)\n",
    "predictions = open(\"C:\\\\Users\\\\ramasarma\\\\Documents\\\\UCSD\\\\Fall 2020\\\\CSE 258\\\\Assignment1\\\\assignment1\\\\predictions_Hours_v1.txt\", 'w')\n",
    "for l in open(\"C:\\\\Users\\\\ramasarma\\\\Documents\\\\UCSD\\\\Fall 2020\\\\CSE 258\\\\Assignment1\\\\assignment1\\\\pairs_Hours.txt\"):\n",
    "    if l.startswith(\"userID\"):\n",
    "        #header\n",
    "        predictions.write(l)\n",
    "        continue\n",
    "    u,g = l.strip().split('-')\n",
    "    pred = prediction(u, g)\n",
    "    predictions.write(u + '-' + g + ',' + str(pred) + '\\n')\n",
    "\n",
    "predictions.close()\n",
    "\n",
    "print(\"User name used for submission is Severus Snape\")"
   ]
  },
  {
   "cell_type": "markdown",
   "metadata": {},
   "source": [
    "### Complete latent factor model"
   ]
  },
  {
   "cell_type": "code",
   "execution_count": 8,
   "metadata": {},
   "outputs": [
    {
     "name": "stdout",
     "output_type": "stream",
     "text": [
      "{'hours': 0.3, 'gameID': 'b96045472', 'hours_transformed': 0.37851162325372983, 'early_access': False, 'date': '2015-04-08', 'text': '+1', 'userID': 'u01561183'}\n",
      "175000\n"
     ]
    }
   ],
   "source": [
    "dataset = list(parseDataFromFile(\"C:\\\\Users\\\\ramasarma\\\\Documents\\\\UCSD\\\\Fall 2020\\\\CSE 258\\\\Assignment1\\\\assignment1\\\\train.json\"))\n",
    "print(dataset[0])\n",
    "print(len(dataset))\n",
    "training_dataset = dataset[:165000]\n",
    "validation_dataset = dataset[165000:]"
   ]
  },
  {
   "cell_type": "code",
   "execution_count": 9,
   "metadata": {},
   "outputs": [],
   "source": [
    "import numpy as np\n",
    "\n",
    "usersPerGame = defaultdict(set) # list of userIDs per game\n",
    "gamesPerUser = defaultdict(set) # list of gameIDs per user\n",
    "reviewsPerUser = defaultdict(list)\n",
    "reviewsPerGame = defaultdict(list)\n",
    "gameIDs = [] # This contains the entire list of games\n",
    "\n",
    "dataset = training_dataset\n",
    "\n",
    "for d in training_dataset:\n",
    "    user, game = d['userID'], d['gameID']\n",
    "    usersPerGame[game].add(user)\n",
    "    gamesPerUser[user].add(game)\n",
    "    reviewsPerUser[user].append(d)\n",
    "    reviewsPerGame[game].append(d)\n",
    "    # Inserting the gameID into the list of games\n",
    "    gameIDs.append(game)\n",
    "\n",
    "users = list(gamesPerUser.keys())\n",
    "games = list(usersPerGame.keys())\n",
    "numUsers = len(users)\n",
    "numGames = len(games)\n",
    "\n",
    "playPredictionMean = sum([d['hours_transformed'] for d in training_dataset]) / len(training_dataset)\n",
    "\n",
    "# Computing the prediction mean for a set of data\n",
    "alpha = playPredictionMean\n",
    "userBiases = defaultdict(float)\n",
    "gameBiases = defaultdict(float)\n",
    "userGamma = {}\n",
    "gameGamma = {}\n",
    "\n",
    "K = 2\n",
    "\n",
    "for user in reviewsPerUser:\n",
    "    userGamma[user] = [random.random() * 0.1 - 0.05 for k in range(K)]\n",
    "for game in reviewsPerGame:\n",
    "    gameGamma[game] = [random.random() * 0.1 - 0.05 for k in range(K)]\n",
    "\n",
    "N = len(training_dataset)\n",
    "\n",
    "# We must also implement an unpack function\n",
    "def unpack(theta):\n",
    "    global alpha\n",
    "    global userBiases\n",
    "    global gameBiases\n",
    "    global userGamma\n",
    "    global gameGamma\n",
    "    index = 0\n",
    "    alpha = theta[index]\n",
    "    index += 1\n",
    "    userBiases = dict(zip(users, theta[index:index+numUsers]))\n",
    "    index += numUsers\n",
    "    gameBiases = dict(zip(games, theta[index:index+numGames]))\n",
    "    index += numGames\n",
    "    for u in users:\n",
    "        userGamma[u] = theta[index : index + K]\n",
    "        index += K\n",
    "    for g in games:\n",
    "        gameGamma[g] = theta[index : index + K]\n",
    "        index += K\n",
    "\n",
    "def inner(x, y):\n",
    "    return sum([a*b for a,b in zip(x,y)])\n",
    "\n",
    "def prediction(user, game):\n",
    "    return alpha + userBiases[user] + gameBiases[game] + inner(userGamma[user], gameGamma[game])\n",
    "\n",
    "def cost(theta, labels, lamb):\n",
    "    unpack(theta)\n",
    "    predictions = [prediction(d['userID'], d['gameID']) for d in training_dataset]\n",
    "    cost = MSE(predictions, labels)\n",
    "    print(\"MSE = {}\".format(cost))\n",
    "    for u in users:\n",
    "        cost += (lamb/N) * userBiases[u]**2\n",
    "        for k in range(K):\n",
    "            cost += (lamb/N) * userGamma[u][k]**2\n",
    "            \n",
    "    for g in games:\n",
    "        cost += (lamb/N) * gameBiases[g]**2\n",
    "        for k in range(K):\n",
    "            cost += (lamb/N) * gameGamma[g][k]**2\n",
    "            \n",
    "    return cost\n",
    "\n",
    "def derivative(theta, labels, lamb):\n",
    "    unpack(theta)\n",
    "    N = len(training_dataset)\n",
    "    dalpha = 0\n",
    "    dUserBiases = defaultdict(float)\n",
    "    dGameBiases = defaultdict(float)\n",
    "    dUserGamma = {}\n",
    "    dGameGamma = {}\n",
    "    for u in reviewsPerUser:\n",
    "        dUserGamma[u] = [0.0 for k in range(K)]\n",
    "    for g in reviewsPerGame:\n",
    "        dGameGamma[g] = [0.0 for k in range(K)]\n",
    "    for d in training_dataset:\n",
    "        u,g = d['userID'], d['gameID']\n",
    "        pred = prediction(u, g)\n",
    "        diff = pred - d['hours_transformed']\n",
    "        dalpha += 2/N*diff\n",
    "        dUserBiases[u] += 2/N*diff\n",
    "        dGameBiases[g] += 2/N*diff\n",
    "        for k in range(K):\n",
    "            dUserGamma[u][k] += 2/N*gameGamma[g][k]*diff\n",
    "            dGameGamma[g][k] += 2/N*userGamma[u][k]*diff\n",
    "    for u in userBiases:\n",
    "        dUserBiases[u] += 2 * lamb/N * userBiases[u]\n",
    "        for k in range(K):\n",
    "            dUserGamma[u][k] += 2 * lamb/N * userGamma[u][k]\n",
    "    for g in gameBiases:\n",
    "        dGameBiases[g] += 2 * lamb/N *gameBiases[g]\n",
    "        for k in range(K):\n",
    "            dGameGamma[g][k] += 2 * lamb/N * gameGamma[g][k]\n",
    "    dtheta = [dalpha] + [dUserBiases[u] for u in users] + [dGameBiases[g] for g in games]\n",
    "    for u in users:\n",
    "        dtheta += dUserGamma[u]\n",
    "    for g in games:\n",
    "        dtheta += dGameGamma[g]\n",
    "    return np.array(dtheta)\n",
    "\n",
    "        # print(\"Prediction mean for validation set is {}\".format(playPredictionMean))\n",
    "        # # Compute the play prediction mean\n",
    "        # alwaysPredictMean = [playPredictionMean for d in validation_dataset]\n",
    "        # labels = [d['hours_transformed'] for d in validation_dataset]\n",
    "        # mse = MSE(alwaysPredictMean, labels)\n",
    "        # print(\"Always predict mean MSE is {}\".format(mse))\n",
    "\n",
    "labels = [d['hours_transformed'] for d in training_dataset]\n",
    "\n",
    "# x, f, d = scipy.optimize.fmin_l_bfgs_b(cost, [alpha] + [0.0]*(numUsers + numGames) + \n",
    "#                                        [random.random() * 0.1 - 0.05 for k in range(K*(numUsers + numGames))],\n",
    "#                                        derivative, args = (labels, 0.0001), maxiter=15000)"
   ]
  },
  {
   "cell_type": "code",
   "execution_count": 10,
   "metadata": {},
   "outputs": [],
   "source": [
    "new_set = []\n",
    "for sample in validation_set:\n",
    "    # Compute the sample (userID, gameID)\n",
    "    userID, gameID = sample['userID'], sample['gameID']\n",
    "    gamesNotPlayed = []\n",
    "    # From the entire list of games that all users have played.\n",
    "    for game in gameIDs:\n",
    "        # Find all those that this user hasn't played\n",
    "        if(game not in gamesPerUser[userID]):\n",
    "            gamesNotPlayed.append(game)\n",
    "    # By default, the following values will be used for the review\n",
    "    # 'hours': -1, 'gameID': randomly chosen, 'hours_transformed': -1, 'early_access': False, 'date': '',\n",
    "    # 'text': '', 'userID': userID\n",
    "    # Randomly choose one game from that list of games that user hasn't played\n",
    "    random.seed()\n",
    "    random_gameID = random.choice(gamesNotPlayed)\n",
    "    #print(\"For userID = {}, randomly chosen game = {}\".format(userID, random_gameID))\n",
    "    new_data = {'hours': 0, 'gameID': str(random_gameID),\\\n",
    "                'hours_transformed': 0, 'early_access': False,\\\n",
    "                'date': '', 'text': '', 'userID': str(userID)}\n",
    "    new_set.append(new_data)\n",
    "    \n",
    "updated_validation_dataset = validation_set + new_set"
   ]
  },
  {
   "cell_type": "code",
   "execution_count": 80,
   "metadata": {},
   "outputs": [
    {
     "name": "stdout",
     "output_type": "stream",
     "text": [
      "After performing gradient descent using the new model, MSE on validation dataset is 10.648666725098611\n"
     ]
    }
   ],
   "source": [
    "unpack(x)\n",
    "predicted_y = [prediction(d['userID'], d['gameID']) for d in updated_validation_dataset]\n",
    "actual_y = [d['hours_transformed'] for d in updated_validation_dataset]\n",
    "mse_new = MSE(predicted_y, actual_y)\n",
    "print(\"After performing gradient descent using the new model, MSE on validation dataset is {}\".format(mse_new))"
   ]
  },
  {
   "cell_type": "code",
   "execution_count": 66,
   "metadata": {},
   "outputs": [],
   "source": [
    "unpack(x)\n",
    "predictions = open(\"C:\\\\Users\\\\ramasarma\\\\Documents\\\\UCSD\\\\Fall 2020\\\\CSE 258\\\\Assignment1\\\\assignment1\\\\predictions_Hours_gamma.txt\", 'w')\n",
    "for l in open(\"C:\\\\Users\\\\ramasarma\\\\Documents\\\\UCSD\\\\Fall 2020\\\\CSE 258\\\\Assignment1\\\\assignment1\\\\pairs_Hours.txt\"):\n",
    "    if l.startswith(\"userID\"):\n",
    "        #header\n",
    "        predictions.write(l)\n",
    "        continue\n",
    "    u,g = l.strip().split('-')\n",
    "    pred = prediction(u, g)\n",
    "    predictions.write(u + '-' + g + ',' + str(pred) + '\\n')\n",
    "\n",
    "predictions.close()\n"
   ]
  },
  {
   "cell_type": "code",
   "execution_count": null,
   "metadata": {},
   "outputs": [],
   "source": []
  }
 ],
 "metadata": {
  "kernelspec": {
   "display_name": "Python 3",
   "language": "python",
   "name": "python3"
  },
  "language_info": {
   "codemirror_mode": {
    "name": "ipython",
    "version": 3
   },
   "file_extension": ".py",
   "mimetype": "text/x-python",
   "name": "python",
   "nbconvert_exporter": "python",
   "pygments_lexer": "ipython3",
   "version": "3.7.4"
  }
 },
 "nbformat": 4,
 "nbformat_minor": 4
}
